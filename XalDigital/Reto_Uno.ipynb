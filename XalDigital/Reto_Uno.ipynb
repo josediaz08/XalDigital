{
 "cells": [
  {
   "cell_type": "code",
   "execution_count": 1,
   "id": "663d733c",
   "metadata": {},
   "outputs": [],
   "source": [
    "import requests\n",
    "import pandas as pd\n",
    "import datetime as dt"
   ]
  },
  {
   "cell_type": "markdown",
   "id": "3c556f0b",
   "metadata": {},
   "source": [
    "1. Conectarse al enlace"
   ]
  },
  {
   "cell_type": "code",
   "execution_count": 2,
   "id": "28cd1f03",
   "metadata": {},
   "outputs": [
    {
     "name": "stdout",
     "output_type": "stream",
     "text": [
      "Conectado a URL\n"
     ]
    }
   ],
   "source": [
    "url = \"https://api.stackexchange.com/2.2/search?order=desc&sort=activity&intitle=perl&site=stackoverflow\"\n",
    "try:\n",
    "    req = requests.get(url)\n",
    "    print(\"Conectado a URL\")\n",
    "except:\n",
    "    print(\"ERROR: url no encontrado\")"
   ]
  },
  {
   "cell_type": "markdown",
   "id": "1bc90f4e",
   "metadata": {},
   "source": [
    "2. Obtener el número de respuestas contestadas y no contestadas"
   ]
  },
  {
   "cell_type": "code",
   "execution_count": 3,
   "id": "f6ae974c",
   "metadata": {},
   "outputs": [
    {
     "name": "stdout",
     "output_type": "stream",
     "text": [
      "Total contestadas: 19\n",
      "Total no contestadas : 11\n"
     ]
    }
   ],
   "source": [
    "\n",
    "JSON_object = req.json()\n",
    "df = pd.json_normalize(JSON_object['items'])\n",
    "\n",
    "encuesta = df[ [\"is_answered\"] ].value_counts()\n",
    "\n",
    "count = 0\n",
    "for ele in encuesta:\n",
    "    if(encuesta.index[count][0] == True):\n",
    "        temp = \"contestadas\"\n",
    "    else:\n",
    "        temp = \"no contestadas \"\n",
    "    print(\"Total %s: %i\" % (temp, ele) )\n",
    "    count += 1"
   ]
  },
  {
   "cell_type": "code",
   "execution_count": 4,
   "id": "f2233950",
   "metadata": {},
   "outputs": [],
   "source": [
    "timestamp = df['creation_date']\n",
    "values = []\n",
    "\n",
    "for ts in timestamp:\n",
    "    values.append(dt.datetime.fromtimestamp(int(ts)).date())\n",
    "    \n",
    "df['creation_date'] = values\n",
    "timestamp = df['last_activity_date']\n",
    "values = []\n",
    "\n",
    "for ts in timestamp:\n",
    "    values.append(dt.datetime.fromtimestamp(int(ts)).date())\n",
    "\n",
    "df['last_activity_date'] = values\n"
   ]
  },
  {
   "cell_type": "markdown",
   "id": "43cd80ad",
   "metadata": {},
   "source": [
    "3. Obtener la respuesta con menor número de vistas"
   ]
  },
  {
   "cell_type": "code",
   "execution_count": 5,
   "id": "54a4cbee",
   "metadata": {
    "scrolled": true
   },
   "outputs": [
    {
     "name": "stdout",
     "output_type": "stream",
     "text": [
      "question_id: 74115284\n",
      "view_count: 14\n",
      "owner.display_name: VGP\n",
      "title: Perl Selenium Issue\n",
      "link: https://stackoverflow.com/questions/74115284/perl-selenium-issue\n"
     ]
    }
   ],
   "source": [
    "min_count_row = df[df[\"view_count\"] == df[\"view_count\"].min()]\n",
    "min_view_count = min_count_row[[\"question_id\", \"view_count\", \"owner.display_name\", \"title\", \"link\"]]\n",
    "\n",
    "for ele in min_view_count.keys():\n",
    "    print(\"%s: %s\" % (ele, min_view_count[ele].values[0]) )"
   ]
  },
  {
   "cell_type": "markdown",
   "id": "2d2faec1",
   "metadata": {},
   "source": [
    "4. Obtener la respuesta más vieja y más actual"
   ]
  },
  {
   "cell_type": "code",
   "execution_count": 6,
   "id": "14708de5",
   "metadata": {},
   "outputs": [
    {
     "name": "stdout",
     "output_type": "stream",
     "text": [
      "\n",
      "4. Obtener la respuesta más vieja:\n",
      "question_id: 640790\n",
      "owner.display_name: sebthebert\n",
      "creation_date: 2009-03-12\n",
      "title: What is the easiest and lightest way to make a client-server in Perl?\n",
      "link: https://stackoverflow.com/questions/640790/what-is-the-easiest-and-lightest-way-to-make-a-client-server-in-perl\n",
      "owner.user_id: 24820.0\n",
      "\n",
      "4. Obtener la respuesta más actual:\n",
      "question_id: 74115284\n",
      "owner.display_name: VGP\n",
      "creation_date: 2022-10-18\n",
      "title: Perl Selenium Issue\n",
      "link: https://stackoverflow.com/questions/74115284/perl-selenium-issue\n",
      "owner.user_id: 19324766.0\n"
     ]
    }
   ],
   "source": [
    "antigua_ans_row = df[df[\"creation_date\"] == df[\"creation_date\"].min()]\n",
    "antigua_ans = antigua_ans_row[[\"question_id\", \"owner.display_name\" ,\"creation_date\", \"title\", \"link\", \"owner.user_id\"]]\n",
    "\n",
    "nueva_ans_row = df[df[\"creation_date\"] == df[\"creation_date\"].max()]\n",
    "nueva_ans = nueva_ans_row[[\"question_id\", \"owner.display_name\" ,\"creation_date\", \"title\", \"link\", \"owner.user_id\"]]\n",
    "\n",
    "print(\"\\n4. Obtener la respuesta más vieja:\")\n",
    "for ele in antigua_ans.keys():\n",
    "    print(\"%s: %s\" % (ele, antigua_ans[ele].values[0]) )\n",
    "print(\"\\n4. Obtener la respuesta más actual:\")\n",
    "for ele in nueva_ans.keys():\n",
    "    print(\"%s: %s\" % (ele, nueva_ans[ele].values[0]) )"
   ]
  },
  {
   "cell_type": "markdown",
   "id": "b0d2a4dd",
   "metadata": {},
   "source": [
    "5. Obtener la respuesta del owner que tenga una mayor reputación"
   ]
  },
  {
   "cell_type": "code",
   "execution_count": 7,
   "id": "7aa3d933",
   "metadata": {},
   "outputs": [
    {
     "name": "stdout",
     "output_type": "stream",
     "text": [
      "owner.reputation: 13987.0\n",
      "owner.user_id: 102.0\n",
      "owner.display_name: Bill\n"
     ]
    }
   ],
   "source": [
    "\n",
    "mejor_reputation_row = df[df[\"owner.reputation\"] == df[\"owner.reputation\"].max()]\n",
    "mejor_reputation = mejor_reputation_row[[\"owner.reputation\", \"owner.user_id\", \"owner.display_name\"]]\n",
    "\n",
    "for ele in mejor_reputation.keys():\n",
    "    print(\"%s: %s\" % (ele, mejor_reputation[ele].values[0]) )\n"
   ]
  },
  {
   "cell_type": "markdown",
   "id": "0358f526",
   "metadata": {},
   "source": [
    "6. Imprimir en consola del punto 2 al 5"
   ]
  },
  {
   "cell_type": "code",
   "execution_count": 8,
   "id": "ffe8d3df",
   "metadata": {},
   "outputs": [
    {
     "data": {
      "text/html": [
       "<div>\n",
       "<style scoped>\n",
       "    .dataframe tbody tr th:only-of-type {\n",
       "        vertical-align: middle;\n",
       "    }\n",
       "\n",
       "    .dataframe tbody tr th {\n",
       "        vertical-align: top;\n",
       "    }\n",
       "\n",
       "    .dataframe thead th {\n",
       "        text-align: right;\n",
       "    }\n",
       "</style>\n",
       "<table border=\"1\" class=\"dataframe\">\n",
       "  <thead>\n",
       "    <tr style=\"text-align: right;\">\n",
       "      <th></th>\n",
       "      <th>tags</th>\n",
       "      <th>is_answered</th>\n",
       "      <th>view_count</th>\n",
       "      <th>answer_count</th>\n",
       "      <th>score</th>\n",
       "      <th>last_activity_date</th>\n",
       "      <th>creation_date</th>\n",
       "      <th>question_id</th>\n",
       "      <th>content_license</th>\n",
       "      <th>link</th>\n",
       "      <th>...</th>\n",
       "      <th>owner.user_id</th>\n",
       "      <th>owner.user_type</th>\n",
       "      <th>owner.profile_image</th>\n",
       "      <th>owner.display_name</th>\n",
       "      <th>owner.link</th>\n",
       "      <th>last_edit_date</th>\n",
       "      <th>closed_date</th>\n",
       "      <th>closed_reason</th>\n",
       "      <th>accepted_answer_id</th>\n",
       "      <th>owner.accept_rate</th>\n",
       "    </tr>\n",
       "  </thead>\n",
       "  <tbody>\n",
       "    <tr>\n",
       "      <th>1</th>\n",
       "      <td>[perl, plot, gnuplot, pdl]</td>\n",
       "      <td>False</td>\n",
       "      <td>211</td>\n",
       "      <td>0</td>\n",
       "      <td>1</td>\n",
       "      <td>2022-10-18</td>\n",
       "      <td>2022-10-01</td>\n",
       "      <td>73921340</td>\n",
       "      <td>CC BY-SA 4.0</td>\n",
       "      <td>https://stackoverflow.com/questions/73921340/p...</td>\n",
       "      <td>...</td>\n",
       "      <td>4582948.0</td>\n",
       "      <td>registered</td>\n",
       "      <td>https://graph.facebook.com/1041736225840403/pi...</td>\n",
       "      <td>armagedescu</td>\n",
       "      <td>https://stackoverflow.com/users/4582948/armage...</td>\n",
       "      <td>1.666110e+09</td>\n",
       "      <td>NaN</td>\n",
       "      <td>NaN</td>\n",
       "      <td>NaN</td>\n",
       "      <td>NaN</td>\n",
       "    </tr>\n",
       "    <tr>\n",
       "      <th>2</th>\n",
       "      <td>[regex, perl]</td>\n",
       "      <td>False</td>\n",
       "      <td>16</td>\n",
       "      <td>0</td>\n",
       "      <td>-1</td>\n",
       "      <td>2022-10-18</td>\n",
       "      <td>2022-10-18</td>\n",
       "      <td>74113331</td>\n",
       "      <td>NaN</td>\n",
       "      <td>https://stackoverflow.com/questions/74113331/h...</td>\n",
       "      <td>...</td>\n",
       "      <td>20273557.0</td>\n",
       "      <td>registered</td>\n",
       "      <td>https://www.gravatar.com/avatar/caaf2266fc46a6...</td>\n",
       "      <td>P Rao</td>\n",
       "      <td>https://stackoverflow.com/users/20273557/p-rao</td>\n",
       "      <td>1.666106e+09</td>\n",
       "      <td>1.666106e+09</td>\n",
       "      <td>Duplicate</td>\n",
       "      <td>NaN</td>\n",
       "      <td>NaN</td>\n",
       "    </tr>\n",
       "    <tr>\n",
       "      <th>3</th>\n",
       "      <td>[macos, perl, anaconda, clang, anaconda3]</td>\n",
       "      <td>False</td>\n",
       "      <td>28</td>\n",
       "      <td>0</td>\n",
       "      <td>1</td>\n",
       "      <td>2022-10-18</td>\n",
       "      <td>2022-10-18</td>\n",
       "      <td>74109535</td>\n",
       "      <td>CC BY-SA 4.0</td>\n",
       "      <td>https://stackoverflow.com/questions/74109535/p...</td>\n",
       "      <td>...</td>\n",
       "      <td>10629386.0</td>\n",
       "      <td>registered</td>\n",
       "      <td>https://lh3.googleusercontent.com/-TnnFDRD_f9o...</td>\n",
       "      <td>Najoua</td>\n",
       "      <td>https://stackoverflow.com/users/10629386/najoua</td>\n",
       "      <td>1.666105e+09</td>\n",
       "      <td>NaN</td>\n",
       "      <td>NaN</td>\n",
       "      <td>NaN</td>\n",
       "      <td>NaN</td>\n",
       "    </tr>\n",
       "    <tr>\n",
       "      <th>4</th>\n",
       "      <td>[arrays, perl, compare, match]</td>\n",
       "      <td>True</td>\n",
       "      <td>65202</td>\n",
       "      <td>15</td>\n",
       "      <td>55</td>\n",
       "      <td>2022-10-17</td>\n",
       "      <td>2009-10-22</td>\n",
       "      <td>1609467</td>\n",
       "      <td>CC BY-SA 3.0</td>\n",
       "      <td>https://stackoverflow.com/questions/1609467/in...</td>\n",
       "      <td>...</td>\n",
       "      <td>102.0</td>\n",
       "      <td>registered</td>\n",
       "      <td>https://www.gravatar.com/avatar/f20eaa6bccefd4...</td>\n",
       "      <td>Bill</td>\n",
       "      <td>https://stackoverflow.com/users/102/bill</td>\n",
       "      <td>1.419051e+09</td>\n",
       "      <td>NaN</td>\n",
       "      <td>NaN</td>\n",
       "      <td>1609534.0</td>\n",
       "      <td>86.0</td>\n",
       "    </tr>\n",
       "  </tbody>\n",
       "</table>\n",
       "<p>4 rows × 22 columns</p>\n",
       "</div>"
      ],
      "text/plain": [
       "                                        tags  is_answered  view_count  \\\n",
       "1                 [perl, plot, gnuplot, pdl]        False         211   \n",
       "2                              [regex, perl]        False          16   \n",
       "3  [macos, perl, anaconda, clang, anaconda3]        False          28   \n",
       "4             [arrays, perl, compare, match]         True       65202   \n",
       "\n",
       "   answer_count  score last_activity_date creation_date  question_id  \\\n",
       "1             0      1         2022-10-18    2022-10-01     73921340   \n",
       "2             0     -1         2022-10-18    2022-10-18     74113331   \n",
       "3             0      1         2022-10-18    2022-10-18     74109535   \n",
       "4            15     55         2022-10-17    2009-10-22      1609467   \n",
       "\n",
       "  content_license                                               link  ...  \\\n",
       "1    CC BY-SA 4.0  https://stackoverflow.com/questions/73921340/p...  ...   \n",
       "2             NaN  https://stackoverflow.com/questions/74113331/h...  ...   \n",
       "3    CC BY-SA 4.0  https://stackoverflow.com/questions/74109535/p...  ...   \n",
       "4    CC BY-SA 3.0  https://stackoverflow.com/questions/1609467/in...  ...   \n",
       "\n",
       "  owner.user_id  owner.user_type  \\\n",
       "1     4582948.0       registered   \n",
       "2    20273557.0       registered   \n",
       "3    10629386.0       registered   \n",
       "4         102.0       registered   \n",
       "\n",
       "                                 owner.profile_image owner.display_name  \\\n",
       "1  https://graph.facebook.com/1041736225840403/pi...        armagedescu   \n",
       "2  https://www.gravatar.com/avatar/caaf2266fc46a6...              P Rao   \n",
       "3  https://lh3.googleusercontent.com/-TnnFDRD_f9o...             Najoua   \n",
       "4  https://www.gravatar.com/avatar/f20eaa6bccefd4...               Bill   \n",
       "\n",
       "                                          owner.link last_edit_date  \\\n",
       "1  https://stackoverflow.com/users/4582948/armage...   1.666110e+09   \n",
       "2     https://stackoverflow.com/users/20273557/p-rao   1.666106e+09   \n",
       "3    https://stackoverflow.com/users/10629386/najoua   1.666105e+09   \n",
       "4           https://stackoverflow.com/users/102/bill   1.419051e+09   \n",
       "\n",
       "    closed_date  closed_reason  accepted_answer_id owner.accept_rate  \n",
       "1           NaN            NaN                 NaN               NaN  \n",
       "2  1.666106e+09      Duplicate                 NaN               NaN  \n",
       "3           NaN            NaN                 NaN               NaN  \n",
       "4           NaN            NaN           1609534.0              86.0  \n",
       "\n",
       "[4 rows x 22 columns]"
      ]
     },
     "execution_count": 8,
     "metadata": {},
     "output_type": "execute_result"
    }
   ],
   "source": [
    "df[1:5]"
   ]
  },
  {
   "cell_type": "code",
   "execution_count": null,
   "id": "a7b0c151",
   "metadata": {},
   "outputs": [],
   "source": []
  }
 ],
 "metadata": {
  "kernelspec": {
   "display_name": "Python 3.9.7 ('base')",
   "language": "python",
   "name": "python3"
  },
  "language_info": {
   "codemirror_mode": {
    "name": "ipython",
    "version": 3
   },
   "file_extension": ".py",
   "mimetype": "text/x-python",
   "name": "python",
   "nbconvert_exporter": "python",
   "pygments_lexer": "ipython3",
   "version": "3.9.7"
  },
  "vscode": {
   "interpreter": {
    "hash": "263930470851f494f0ed2879c35b57985588df20f9e529b86e97dd5eb9ddc466"
   }
  }
 },
 "nbformat": 4,
 "nbformat_minor": 5
}
